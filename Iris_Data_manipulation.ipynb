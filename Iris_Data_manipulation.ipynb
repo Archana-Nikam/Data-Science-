{
 "cells": [
  {
   "cell_type": "code",
   "execution_count": 2,
   "id": "c52c6504-67c3-42f8-9a47-bf06d9e81db4",
   "metadata": {},
   "outputs": [
    {
     "name": "stdout",
     "output_type": "stream",
     "text": [
      "Requirement already satisfied: pandas in c:\\users\\archa\\appdata\\local\\programs\\python\\python310\\lib\\site-packages (2.2.2)\n",
      "Requirement already satisfied: numpy>=1.22.4 in c:\\users\\archa\\appdata\\local\\programs\\python\\python310\\lib\\site-packages (from pandas) (1.24.2)\n",
      "Requirement already satisfied: python-dateutil>=2.8.2 in c:\\users\\archa\\appdata\\local\\programs\\python\\python310\\lib\\site-packages (from pandas) (2.8.2)\n",
      "Requirement already satisfied: pytz>=2020.1 in c:\\users\\archa\\appdata\\local\\programs\\python\\python310\\lib\\site-packages (from pandas) (2024.1)\n",
      "Requirement already satisfied: tzdata>=2022.7 in c:\\users\\archa\\appdata\\local\\programs\\python\\python310\\lib\\site-packages (from pandas) (2024.1)\n",
      "Requirement already satisfied: six>=1.5 in c:\\users\\archa\\appdata\\local\\programs\\python\\python310\\lib\\site-packages (from python-dateutil>=2.8.2->pandas) (1.16.0)\n",
      "Note: you may need to restart the kernel to use updated packages.\n"
     ]
    }
   ],
   "source": [
    "pip install pandas\n"
   ]
  },
  {
   "cell_type": "code",
   "execution_count": 3,
   "id": "76ca67b3-afc1-4a71-a7f4-ec9d0829c28b",
   "metadata": {},
   "outputs": [
    {
     "name": "stdout",
     "output_type": "stream",
     "text": [
      "      Id  SepalLengthCm  SepalWidthCm  PetalLengthCm  PetalWidthCm  \\\n",
      "0      1            5.1           3.5            1.4           0.2   \n",
      "1      1            5.1           3.5            1.4           0.2   \n",
      "2      2            4.9           3.0            1.4           0.2   \n",
      "3      3            4.7           3.2            1.3           0.2   \n",
      "4      4            NaN           3.1            1.5           0.2   \n",
      "..   ...            ...           ...            ...           ...   \n",
      "147  146            6.7           3.0            5.2           2.3   \n",
      "148  147            6.3           NaN            5.0           1.9   \n",
      "149  148            6.5           3.0            5.2           2.0   \n",
      "150  149            6.2           3.4            5.4           2.3   \n",
      "151  150            5.9           3.0            5.1           1.8   \n",
      "\n",
      "            Species  \n",
      "0       Iris-setosa  \n",
      "1       Iris-setosa  \n",
      "2       Iris-setosa  \n",
      "3       Iris-setosa  \n",
      "4       Iris-setosa  \n",
      "..              ...  \n",
      "147  Iris-virginica  \n",
      "148  Iris-virginica  \n",
      "149  Iris-virginica  \n",
      "150  Iris-virginica  \n",
      "151  Iris-virginica  \n",
      "\n",
      "[152 rows x 6 columns]\n"
     ]
    }
   ],
   "source": [
    "#to read file \n",
    "import pandas as pd\n",
    "df=pd.read_csv('Iris_missingdata.csv')\n",
    "print(df)"
   ]
  },
  {
   "cell_type": "code",
   "execution_count": 4,
   "id": "95a4a828-1198-4e40-883c-5b84d36e08dc",
   "metadata": {},
   "outputs": [
    {
     "name": "stdout",
     "output_type": "stream",
     "text": [
      "      Id  SepalLengthCm  SepalWidthCm  PetalLengthCm  PetalWidthCm          Species\n",
      "0      1            5.1           3.5            1.4           0.2      Iris-setosa\n",
      "1      1            5.1           3.5            1.4           0.2      Iris-setosa\n",
      "2      2            4.9           3.0            1.4           0.2      Iris-setosa\n",
      "3      3            4.7           3.2            1.3           0.2      Iris-setosa\n",
      "4      4            NaN           3.1            1.5           0.2      Iris-setosa\n",
      "5      5            5.0           3.6            1.4           0.2      Iris-setosa\n",
      "6      6            5.4           3.9            1.7           0.4      Iris-setosa\n",
      "7      7            4.6           3.4            1.4           0.3      Iris-setosa\n",
      "8      7            4.6           3.4            1.4           0.3      Iris-setosa\n",
      "9      8            5.0           3.4            1.5           0.2      Iris-setosa\n",
      "10     9            4.4           2.9            1.4           0.2      Iris-setosa\n",
      "11    10            4.9           3.1            NaN           0.1      Iris-setosa\n",
      "12    11            5.4           3.7            1.5           0.2      Iris-setosa\n",
      "13    12            4.8           3.4            1.6           0.2      Iris-setosa\n",
      "14    13            4.8           3.0            1.4           0.1      Iris-setosa\n",
      "15    14            NaN           3.0            1.1           0.1      Iris-setosa\n",
      "16    15            5.8           NaN            1.2           0.2      Iris-setosa\n",
      "17    16            5.7           4.4            1.5           0.4      Iris-setosa\n",
      "18    17            5.4           3.9            1.3           0.4      Iris-setosa\n",
      "19    18            5.1           3.5            1.4           0.3      Iris-setosa\n",
      "20    19            NaN           3.8            1.7           0.3      Iris-setosa\n",
      "21    20            5.1           3.8            1.5           0.3      Iris-setosa\n",
      "22    21            5.4           3.4            1.7           0.2      Iris-setosa\n",
      "23    22            5.1           3.7            1.5           0.4      Iris-setosa\n",
      "24    23            4.6           3.6            1.0           0.2      Iris-setosa\n",
      "25    24            5.1           3.3            NaN           0.5      Iris-setosa\n",
      "26    25            4.8           3.4            1.9           NaN      Iris-setosa\n",
      "27    26            5.0           3.0            1.6           0.2      Iris-setosa\n",
      "28    27            5.0           3.4            1.6           0.4      Iris-setosa\n",
      "29    28            NaN           3.5            1.5           0.2      Iris-setosa\n",
      "30    29            5.2           3.4            1.4           0.2      Iris-setosa\n",
      "31    30            4.7           3.2            1.6           0.2      Iris-setosa\n",
      "32    31            4.8           NaN            1.6           NaN      Iris-setosa\n",
      "33    32            5.4           3.4            1.5           0.4      Iris-setosa\n",
      "34    33            5.2           4.1            1.5           0.1      Iris-setosa\n",
      "35    34            5.5           4.2            NaN           0.2      Iris-setosa\n",
      "36    35            4.9           3.1            1.5           0.1      Iris-setosa\n",
      "37    36            5.0           3.2            1.2           0.2      Iris-setosa\n",
      "38    37            5.5           3.5            1.3           0.2      Iris-setosa\n",
      "39    38            4.9           3.1            1.5           0.1      Iris-setosa\n",
      "40    39            4.4           3.0            1.3           0.2      Iris-setosa\n",
      "41    40            5.1           3.4            1.5           0.2      Iris-setosa\n",
      "42    41            5.0           3.5            1.3           0.3      Iris-setosa\n",
      "43    42            4.5           2.3            1.3           0.3      Iris-setosa\n",
      "44    43            4.4           3.2            1.3           0.2      Iris-setosa\n",
      "45    44            5.0           3.5            1.6           0.6      Iris-setosa\n",
      "46    45            5.1           3.8            1.9           0.4      Iris-setosa\n",
      "47    46            4.8           3.0            1.4           0.3      Iris-setosa\n",
      "48    47            5.1           3.8            1.6           0.2      Iris-setosa\n",
      "49    48            4.6           3.2            1.4           0.2      Iris-setosa\n",
      "50    49            5.3           3.7            1.5           0.2      Iris-setosa\n",
      "51    50            5.0           NaN            1.4           NaN      Iris-setosa\n",
      "52    51            7.0           3.2            4.7           1.4  Iris-versicolor\n",
      "53    52            NaN           3.2            4.5           1.5  Iris-versicolor\n",
      "54    53            6.9           3.1            4.9           1.5  Iris-versicolor\n",
      "55    54            5.5           2.3            4.0           1.3  Iris-versicolor\n",
      "56    55            6.5           2.8            4.6           NaN  Iris-versicolor\n",
      "57    56            5.7           2.8            4.5           1.3  Iris-versicolor\n",
      "58    57            6.3           3.3            4.7           1.6  Iris-versicolor\n",
      "59    58            4.9           2.4            3.3           1.0  Iris-versicolor\n",
      "60    59            6.6           2.9            4.6           1.3  Iris-versicolor\n",
      "61    60            5.2           2.7            3.9           1.4  Iris-versicolor\n",
      "62    61            5.0           2.0            3.5           1.0  Iris-versicolor\n",
      "63    62            5.9           3.0            4.2           1.5  Iris-versicolor\n",
      "64    63            6.0           2.2            4.0           1.0  Iris-versicolor\n",
      "65    64            6.1           2.9            4.7           1.4  Iris-versicolor\n",
      "66    65            5.6           2.9            3.6           1.3  Iris-versicolor\n",
      "67    66            6.7           3.1            4.4           1.4  Iris-versicolor\n",
      "68    67            5.6           3.0            4.5           1.5  Iris-versicolor\n",
      "69    68            5.8           2.7            4.1           1.0  Iris-versicolor\n",
      "70    69            6.2           2.2            4.5           1.5  Iris-versicolor\n",
      "71    70            5.6           2.5            3.9           1.1  Iris-versicolor\n",
      "72    71            5.9           3.2            4.8           1.8  Iris-versicolor\n",
      "73    72            6.1           2.8            NaN           NaN  Iris-versicolor\n",
      "74    73            6.3           2.5            4.9           1.5  Iris-versicolor\n",
      "75    74            6.1           2.8            4.7           1.2  Iris-versicolor\n",
      "76    75            NaN           2.9            4.3           1.3  Iris-versicolor\n",
      "77    76            6.6           3.0            4.4           1.4  Iris-versicolor\n",
      "78    77            6.8           2.8            NaN           1.4  Iris-versicolor\n",
      "79    78            6.7           3.0            5.0           1.7  Iris-versicolor\n",
      "80    79            6.0           NaN            4.5           1.5  Iris-versicolor\n",
      "81    80            5.7           2.6            3.5           1.0  Iris-versicolor\n",
      "82    81            5.5           2.4            3.8           1.1  Iris-versicolor\n",
      "83    82            5.5           2.4            3.7           1.0  Iris-versicolor\n",
      "84    83            NaN           2.7            3.9           1.2  Iris-versicolor\n",
      "85    84            6.0           2.7            5.1           1.6  Iris-versicolor\n",
      "86    85            5.4           3.0            4.5           1.5  Iris-versicolor\n",
      "87    86            6.0           3.4            4.5           1.6  Iris-versicolor\n",
      "88    87            6.7           3.1            4.7           1.5  Iris-versicolor\n",
      "89    88            6.3           2.3            4.4           1.3  Iris-versicolor\n",
      "90    89            5.6           3.0            4.1           1.3  Iris-versicolor\n",
      "91    90            5.5           2.5            4.0           1.3  Iris-versicolor\n",
      "92    91            5.5           2.6            NaN           1.2  Iris-versicolor\n",
      "93    92            6.1           3.0            4.6           1.4  Iris-versicolor\n",
      "94    93            5.8           2.6            4.0           1.2  Iris-versicolor\n",
      "95    94            5.0           2.3            3.3           1.0  Iris-versicolor\n",
      "96    95            5.6           2.7            4.2           1.3  Iris-versicolor\n",
      "97    96            5.7           3.0            NaN           1.2  Iris-versicolor\n",
      "98    97            5.7           2.9            4.2           1.3  Iris-versicolor\n",
      "99    98            6.2           2.9            4.3           NaN  Iris-versicolor\n",
      "100   99            5.1           2.5            3.0           1.1  Iris-versicolor\n",
      "101  100            NaN           2.8            4.1           1.3  Iris-versicolor\n",
      "102  101            6.3           3.3            6.0           2.5   Iris-virginica\n",
      "103  102            5.8           2.7            5.1           1.9   Iris-virginica\n",
      "104  103            7.1           3.0            5.9           2.1   Iris-virginica\n",
      "105  104            6.3           2.9            5.6           1.8   Iris-virginica\n",
      "106  105            6.5           3.0            5.8           2.2   Iris-virginica\n",
      "107  106            7.6           3.0            6.6           2.1   Iris-virginica\n",
      "108  107            4.9           2.5            4.5           1.7   Iris-virginica\n",
      "109  108            7.3           2.9            6.3           1.8   Iris-virginica\n",
      "110  109            6.7           2.5            5.8           1.8   Iris-virginica\n",
      "111  110            7.2           3.6            6.1           2.5   Iris-virginica\n",
      "112  111            6.5           3.2            5.1           2.0   Iris-virginica\n",
      "113  112            6.4           2.7            5.3           1.9   Iris-virginica\n",
      "114  113            6.8           3.0            5.5           2.1   Iris-virginica\n",
      "115  114            5.7           2.5            5.0           2.0   Iris-virginica\n",
      "116  115            5.8           2.8            5.1           2.4   Iris-virginica\n",
      "117  116            6.4           3.2            5.3           2.3   Iris-virginica\n",
      "118  117            6.5           3.0            5.5           1.8   Iris-virginica\n",
      "119  118            7.7           3.8            6.7           2.2   Iris-virginica\n",
      "120  119            7.7           2.6            6.9           2.3   Iris-virginica\n",
      "121  120            6.0           2.2            NaN           1.5   Iris-virginica\n",
      "122  121            6.9           3.2            5.7           2.3   Iris-virginica\n",
      "123  122            5.6           2.8            4.9           2.0   Iris-virginica\n",
      "124  123            7.7           2.8            6.7           2.0   Iris-virginica\n",
      "125  124            6.3           2.7            4.9           1.8   Iris-virginica\n",
      "126  125            6.7           NaN            5.7           2.1   Iris-virginica\n",
      "127  126            NaN           3.2            6.0           1.8   Iris-virginica\n",
      "128  127            6.2           2.8            4.8           1.8   Iris-virginica\n",
      "129  128            6.1           3.0            4.9           1.8   Iris-virginica\n",
      "130  129            6.4           2.8            5.6           NaN   Iris-virginica\n",
      "131  130            7.2           3.0            5.8           1.6   Iris-virginica\n",
      "132  131            NaN           2.8            6.1           1.9   Iris-virginica\n",
      "133  132            7.9           3.8            6.4           2.0   Iris-virginica\n",
      "134  133            6.4           2.8            5.6           2.2   Iris-virginica\n",
      "135  134            6.3           NaN            5.1           1.5   Iris-virginica\n",
      "136  135            6.1           2.6            5.6           1.4   Iris-virginica\n",
      "137  136            7.7           3.0            6.1           2.3   Iris-virginica\n",
      "138  137            6.3           3.4            5.6           2.4   Iris-virginica\n",
      "139  138            6.4           3.1            5.5           1.8   Iris-virginica\n",
      "140  139            6.0           3.0            4.8           1.8   Iris-virginica\n",
      "141  140            6.9           3.1            5.4           NaN   Iris-virginica\n",
      "142  141            6.7           3.1            5.6           2.4   Iris-virginica\n",
      "143  142            6.9           3.1            5.1           2.3   Iris-virginica\n",
      "144  143            NaN           2.7            5.1           NaN   Iris-virginica\n",
      "145  144            6.8           3.2            5.9           2.3   Iris-virginica\n",
      "146  145            6.7           3.3            5.7           2.5   Iris-virginica\n",
      "147  146            6.7           3.0            5.2           2.3   Iris-virginica\n",
      "148  147            6.3           NaN            5.0           1.9   Iris-virginica\n",
      "149  148            6.5           3.0            5.2           2.0   Iris-virginica\n",
      "150  149            6.2           3.4            5.4           2.3   Iris-virginica\n",
      "151  150            5.9           3.0            5.1           1.8   Iris-virginica\n"
     ]
    }
   ],
   "source": [
    "#to display all records from csv file\n",
    "print(df.to_string())"
   ]
  },
  {
   "cell_type": "code",
   "execution_count": 5,
   "id": "85c2d8a8-edd8-4bbf-b491-aef1c95f0b14",
   "metadata": {},
   "outputs": [
    {
     "name": "stdout",
     "output_type": "stream",
     "text": [
      "    Id  SepalLengthCm  SepalWidthCm  PetalLengthCm  PetalWidthCm      Species\n",
      "0    1            5.1           3.5            1.4           0.2  Iris-setosa\n",
      "1    1            5.1           3.5            1.4           0.2  Iris-setosa\n",
      "2    2            4.9           3.0            1.4           0.2  Iris-setosa\n",
      "3    3            4.7           3.2            1.3           0.2  Iris-setosa\n",
      "4    4            NaN           3.1            1.5           0.2  Iris-setosa\n",
      "5    5            5.0           3.6            1.4           0.2  Iris-setosa\n",
      "6    6            5.4           3.9            1.7           0.4  Iris-setosa\n",
      "7    7            4.6           3.4            1.4           0.3  Iris-setosa\n",
      "8    7            4.6           3.4            1.4           0.3  Iris-setosa\n",
      "9    8            5.0           3.4            1.5           0.2  Iris-setosa\n",
      "10   9            4.4           2.9            1.4           0.2  Iris-setosa\n",
      "11  10            4.9           3.1            NaN           0.1  Iris-setosa\n",
      "12  11            5.4           3.7            1.5           0.2  Iris-setosa\n",
      "13  12            4.8           3.4            1.6           0.2  Iris-setosa\n",
      "14  13            4.8           3.0            1.4           0.1  Iris-setosa\n"
     ]
    }
   ],
   "source": [
    "#to display first 15 records\n",
    "print(df.head(15))"
   ]
  },
  {
   "cell_type": "code",
   "execution_count": 6,
   "id": "79598856-5443-464b-9cba-c5e78cf0a8cc",
   "metadata": {},
   "outputs": [
    {
     "name": "stdout",
     "output_type": "stream",
     "text": [
      "      Id  SepalLengthCm  SepalWidthCm  PetalLengthCm  PetalWidthCm  \\\n",
      "145  144            6.8           3.2            5.9           2.3   \n",
      "146  145            6.7           3.3            5.7           2.5   \n",
      "147  146            6.7           3.0            5.2           2.3   \n",
      "148  147            6.3           NaN            5.0           1.9   \n",
      "149  148            6.5           3.0            5.2           2.0   \n",
      "150  149            6.2           3.4            5.4           2.3   \n",
      "151  150            5.9           3.0            5.1           1.8   \n",
      "\n",
      "            Species  \n",
      "145  Iris-virginica  \n",
      "146  Iris-virginica  \n",
      "147  Iris-virginica  \n",
      "148  Iris-virginica  \n",
      "149  Iris-virginica  \n",
      "150  Iris-virginica  \n",
      "151  Iris-virginica  \n"
     ]
    }
   ],
   "source": [
    "#to display last 7 records\n",
    "print(df.tail(7))"
   ]
  },
  {
   "cell_type": "code",
   "execution_count": 7,
   "id": "d0a01a3f-b6ad-43f1-b8d6-1ca7495cb3b9",
   "metadata": {},
   "outputs": [
    {
     "name": "stdout",
     "output_type": "stream",
     "text": [
      "(152, 6)\n"
     ]
    }
   ],
   "source": [
    "#to display number of columns and rows\n",
    "print(df.shape)"
   ]
  },
  {
   "cell_type": "code",
   "execution_count": 8,
   "id": "b1de0b11-bb2e-4342-9c1f-a876a4035744",
   "metadata": {},
   "outputs": [
    {
     "name": "stdout",
     "output_type": "stream",
     "text": [
      "        Id  SepalLengthCm  SepalWidthCm  PetalLengthCm  PetalWidthCm  Species\n",
      "0    False          False         False          False         False    False\n",
      "1    False          False         False          False         False    False\n",
      "2    False          False         False          False         False    False\n",
      "3    False          False         False          False         False    False\n",
      "4    False           True         False          False         False    False\n",
      "..     ...            ...           ...            ...           ...      ...\n",
      "147  False          False         False          False         False    False\n",
      "148  False          False          True          False         False    False\n",
      "149  False          False         False          False         False    False\n",
      "150  False          False         False          False         False    False\n",
      "151  False          False         False          False         False    False\n",
      "\n",
      "[152 rows x 6 columns]\n"
     ]
    }
   ],
   "source": [
    "#to get the NaN-not a number values it will return there true and all other values it will return false\n",
    "print(df.isnull())"
   ]
  },
  {
   "cell_type": "code",
   "execution_count": 10,
   "id": "1e7fcbf2-d0e1-4c9d-894f-e4a789a6485b",
   "metadata": {},
   "outputs": [
    {
     "name": "stdout",
     "output_type": "stream",
     "text": [
      "Id                0\n",
      "SepalLengthCm    11\n",
      "SepalWidthCm      7\n",
      "PetalLengthCm     8\n",
      "PetalWidthCm      9\n",
      "Species           0\n",
      "dtype: int64\n"
     ]
    }
   ],
   "source": [
    "#to count how many null values in each column it will show\n",
    "print(df.isnull().sum())"
   ]
  },
  {
   "cell_type": "code",
   "execution_count": 11,
   "id": "35485f40-92ab-497a-bbae-1bac86538690",
   "metadata": {},
   "outputs": [
    {
     "name": "stdout",
     "output_type": "stream",
     "text": [
      "      Id SepalLengthCm SepalWidthCm PetalLengthCm PetalWidthCm         Species\n",
      "0      1           5.1          3.5           1.4          0.2     Iris-setosa\n",
      "1      1           5.1          3.5           1.4          0.2     Iris-setosa\n",
      "2      2           4.9          3.0           1.4          0.2     Iris-setosa\n",
      "3      3           4.7          3.2           1.3          0.2     Iris-setosa\n",
      "4      4         Hello          3.1           1.5          0.2     Iris-setosa\n",
      "..   ...           ...          ...           ...          ...             ...\n",
      "147  146           6.7          3.0           5.2          2.3  Iris-virginica\n",
      "148  147           6.3        Hello           5.0          1.9  Iris-virginica\n",
      "149  148           6.5          3.0           5.2          2.0  Iris-virginica\n",
      "150  149           6.2          3.4           5.4          2.3  Iris-virginica\n",
      "151  150           5.9          3.0           5.1          1.8  Iris-virginica\n",
      "\n",
      "[152 rows x 6 columns]\n"
     ]
    }
   ],
   "source": [
    "#to fill values where we have null values NaN- it will fill the values\n",
    "print(df.fillna(\"Hello\"))"
   ]
  },
  {
   "cell_type": "code",
   "execution_count": 13,
   "id": "a6592906-386f-4923-8300-7167b51982e1",
   "metadata": {},
   "outputs": [
    {
     "name": "stdout",
     "output_type": "stream",
     "text": [
      "      Id  SepalLengthCm  SepalWidthCm  PetalLengthCm  PetalWidthCm  \\\n",
      "0      1            5.1           3.5            1.4           0.2   \n",
      "1      1            5.1           3.5            1.4           0.2   \n",
      "2      2            4.9           3.0            1.4           0.2   \n",
      "3      3            4.7           3.2            1.3           0.2   \n",
      "5      5            5.0           3.6            1.4           0.2   \n",
      "..   ...            ...           ...            ...           ...   \n",
      "146  145            6.7           3.3            5.7           2.5   \n",
      "147  146            6.7           3.0            5.2           2.3   \n",
      "149  148            6.5           3.0            5.2           2.0   \n",
      "150  149            6.2           3.4            5.4           2.3   \n",
      "151  150            5.9           3.0            5.1           1.8   \n",
      "\n",
      "            Species  \n",
      "0       Iris-setosa  \n",
      "1       Iris-setosa  \n",
      "2       Iris-setosa  \n",
      "3       Iris-setosa  \n",
      "5       Iris-setosa  \n",
      "..              ...  \n",
      "146  Iris-virginica  \n",
      "147  Iris-virginica  \n",
      "149  Iris-virginica  \n",
      "150  Iris-virginica  \n",
      "151  Iris-virginica  \n",
      "\n",
      "[121 rows x 6 columns]\n"
     ]
    }
   ],
   "source": [
    "#delete NaN values means it will delete the record where NaN is present (rows) \n",
    "drop_values=df.dropna()\n",
    "print(drop_values)"
   ]
  },
  {
   "cell_type": "code",
   "execution_count": 16,
   "id": "1e870d48-16b3-4a3a-abe3-4e8fd2fbee77",
   "metadata": {},
   "outputs": [
    {
     "data": {
      "text/html": [
       "<div>\n",
       "<style scoped>\n",
       "    .dataframe tbody tr th:only-of-type {\n",
       "        vertical-align: middle;\n",
       "    }\n",
       "\n",
       "    .dataframe tbody tr th {\n",
       "        vertical-align: top;\n",
       "    }\n",
       "\n",
       "    .dataframe thead th {\n",
       "        text-align: right;\n",
       "    }\n",
       "</style>\n",
       "<table border=\"1\" class=\"dataframe\">\n",
       "  <thead>\n",
       "    <tr style=\"text-align: right;\">\n",
       "      <th></th>\n",
       "      <th>Id</th>\n",
       "      <th>SepalLengthCm</th>\n",
       "      <th>SepalWidthCm</th>\n",
       "      <th>PetalLengthCm</th>\n",
       "      <th>PetalWidthCm</th>\n",
       "    </tr>\n",
       "  </thead>\n",
       "  <tbody>\n",
       "    <tr>\n",
       "      <th>count</th>\n",
       "      <td>152.000000</td>\n",
       "      <td>141.00000</td>\n",
       "      <td>145.000000</td>\n",
       "      <td>144.000000</td>\n",
       "      <td>143.000000</td>\n",
       "    </tr>\n",
       "    <tr>\n",
       "      <th>mean</th>\n",
       "      <td>74.559211</td>\n",
       "      <td>5.82766</td>\n",
       "      <td>3.055862</td>\n",
       "      <td>3.747222</td>\n",
       "      <td>1.185315</td>\n",
       "    </tr>\n",
       "    <tr>\n",
       "      <th>std</th>\n",
       "      <td>43.925393</td>\n",
       "      <td>0.82359</td>\n",
       "      <td>0.432351</td>\n",
       "      <td>1.787249</td>\n",
       "      <td>0.766091</td>\n",
       "    </tr>\n",
       "    <tr>\n",
       "      <th>min</th>\n",
       "      <td>1.000000</td>\n",
       "      <td>4.40000</td>\n",
       "      <td>2.000000</td>\n",
       "      <td>1.000000</td>\n",
       "      <td>0.100000</td>\n",
       "    </tr>\n",
       "    <tr>\n",
       "      <th>25%</th>\n",
       "      <td>36.750000</td>\n",
       "      <td>5.10000</td>\n",
       "      <td>2.800000</td>\n",
       "      <td>1.500000</td>\n",
       "      <td>0.300000</td>\n",
       "    </tr>\n",
       "    <tr>\n",
       "      <th>50%</th>\n",
       "      <td>74.500000</td>\n",
       "      <td>5.80000</td>\n",
       "      <td>3.000000</td>\n",
       "      <td>4.350000</td>\n",
       "      <td>1.300000</td>\n",
       "    </tr>\n",
       "    <tr>\n",
       "      <th>75%</th>\n",
       "      <td>112.250000</td>\n",
       "      <td>6.40000</td>\n",
       "      <td>3.400000</td>\n",
       "      <td>5.100000</td>\n",
       "      <td>1.800000</td>\n",
       "    </tr>\n",
       "    <tr>\n",
       "      <th>max</th>\n",
       "      <td>150.000000</td>\n",
       "      <td>7.90000</td>\n",
       "      <td>4.400000</td>\n",
       "      <td>6.900000</td>\n",
       "      <td>2.500000</td>\n",
       "    </tr>\n",
       "  </tbody>\n",
       "</table>\n",
       "</div>"
      ],
      "text/plain": [
       "               Id  SepalLengthCm  SepalWidthCm  PetalLengthCm  PetalWidthCm\n",
       "count  152.000000      141.00000    145.000000     144.000000    143.000000\n",
       "mean    74.559211        5.82766      3.055862       3.747222      1.185315\n",
       "std     43.925393        0.82359      0.432351       1.787249      0.766091\n",
       "min      1.000000        4.40000      2.000000       1.000000      0.100000\n",
       "25%     36.750000        5.10000      2.800000       1.500000      0.300000\n",
       "50%     74.500000        5.80000      3.000000       4.350000      1.300000\n",
       "75%    112.250000        6.40000      3.400000       5.100000      1.800000\n",
       "max    150.000000        7.90000      4.400000       6.900000      2.500000"
      ]
     },
     "execution_count": 16,
     "metadata": {},
     "output_type": "execute_result"
    }
   ],
   "source": [
    "# to display mean, mode, median number/count of records we use describe()\n",
    "df.describe()"
   ]
  },
  {
   "cell_type": "code",
   "execution_count": 22,
   "id": "e2f21060-d19e-47ab-8ac6-8c9d9aea4804",
   "metadata": {},
   "outputs": [
    {
     "name": "stdout",
     "output_type": "stream",
     "text": [
      "5.827659574468085\n",
      "3.0558620689655176\n",
      "3.7472222222222222\n",
      "1.1853146853146854\n"
     ]
    }
   ],
   "source": [
    "#mean()-sum of all elements/total no of records\n",
    "print(df[\"SepalLengthCm\"].mean())\n",
    "print(df[\"SepalWidthCm\"].mean())\n",
    "print(df[\"PetalLengthCm\"].mean())\n",
    "print(df[\"PetalWidthCm\"].mean())"
   ]
  },
  {
   "cell_type": "code",
   "execution_count": 21,
   "id": "25f43b32-b899-4c52-b0ed-1eb40fecfada",
   "metadata": {},
   "outputs": [
    {
     "name": "stdout",
     "output_type": "stream",
     "text": [
      "0    3.0\n",
      "Name: SepalWidthCm, dtype: float64\n",
      "0    3.0\n",
      "Name: SepalWidthCm, dtype: float64\n",
      "0    1.4\n",
      "1    1.5\n",
      "Name: PetalLengthCm, dtype: float64\n",
      "0    0.2\n",
      "Name: PetalWidthCm, dtype: float64\n"
     ]
    }
   ],
   "source": [
    "#mode()-count the frequency of elements\n",
    "print(df['SepalWidthCm'].mode())\n",
    "print(df['SepalWidthCm'].mode())\n",
    "print(df['PetalLengthCm'].mode())\n",
    "print(df['PetalWidthCm'].mode())"
   ]
  },
  {
   "cell_type": "code",
   "execution_count": 20,
   "id": "4917481c-541e-47ea-81cd-d829d6b4b7a9",
   "metadata": {},
   "outputs": [
    {
     "name": "stdout",
     "output_type": "stream",
     "text": [
      "5.8\n",
      "3.0\n",
      "4.35\n",
      "1.3\n"
     ]
    }
   ],
   "source": [
    "#median()-it will return the middle/median value\n",
    "print(df[\"SepalLengthCm\"].median())\n",
    "print(df[\"SepalWidthCm\"].median())\n",
    "print(df[\"PetalLengthCm\"].median())\n",
    "print(df[\"PetalWidthCm\"].median())"
   ]
  },
  {
   "cell_type": "code",
   "execution_count": null,
   "id": "2d42d3a8-dade-48d5-a0ed-4b202d5a322a",
   "metadata": {},
   "outputs": [],
   "source": []
  }
 ],
 "metadata": {
  "kernelspec": {
   "display_name": "Python 3 (ipykernel)",
   "language": "python",
   "name": "python3"
  },
  "language_info": {
   "codemirror_mode": {
    "name": "ipython",
    "version": 3
   },
   "file_extension": ".py",
   "mimetype": "text/x-python",
   "name": "python",
   "nbconvert_exporter": "python",
   "pygments_lexer": "ipython3",
   "version": "3.10.9"
  }
 },
 "nbformat": 4,
 "nbformat_minor": 5
}
