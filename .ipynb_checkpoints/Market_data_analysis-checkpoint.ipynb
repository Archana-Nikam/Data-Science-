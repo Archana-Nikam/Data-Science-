{
 "cells": [
  {
   "cell_type": "code",
   "execution_count": 7,
   "id": "21b46cc3-2da6-458d-b140-4e5a18c0e191",
   "metadata": {},
   "outputs": [
    {
     "name": "stdout",
     "output_type": "stream",
     "text": [
      "       Index        Date         Open         High          Low        Close  \\\n",
      "0        NYA  12/31/1965   528.690002   528.690002   528.690002   528.690002   \n",
      "1        NYA    1/3/1966   527.210022   527.210022   527.210022   527.210022   \n",
      "2        NYA    1/4/1966   527.840027   527.840027   527.840027   527.840027   \n",
      "3        NYA    1/5/1966   531.119995   531.119995   531.119995   531.119995   \n",
      "4        NYA    1/6/1966   532.070007   532.070007   532.070007   532.070007   \n",
      "...      ...         ...          ...          ...          ...          ...   \n",
      "112452  N100   5/27/2021  1241.119995  1251.910034  1241.119995  1247.069946   \n",
      "112453  N100   5/28/2021  1249.469971  1259.209961  1249.030029  1256.599976   \n",
      "112454  N100   5/31/2021  1256.079956  1258.880005  1248.140015  1248.930054   \n",
      "112455  N100    6/1/2021  1254.609985  1265.660034  1254.609985  1258.579956   \n",
      "112456  N100    6/2/2021  1258.489990  1263.709961  1258.239990  1263.619995   \n",
      "\n",
      "          Adj Close       Volume  \n",
      "0        528.690002          0.0  \n",
      "1        527.210022          0.0  \n",
      "2        527.840027          0.0  \n",
      "3        531.119995          0.0  \n",
      "4        532.070007          0.0  \n",
      "...             ...          ...  \n",
      "112452  1247.069946  379696400.0  \n",
      "112453  1256.599976  160773400.0  \n",
      "112454  1248.930054   91173700.0  \n",
      "112455  1258.579956  155179900.0  \n",
      "112456  1263.619995  148465000.0  \n",
      "\n",
      "[112457 rows x 8 columns]\n"
     ]
    }
   ],
   "source": [
    "#importing the file and read it but this method will only displays the first some and last some records\n",
    "import pandas as pd\n",
    "df=pd.read_csv('Market.csv')\n",
    "print(df)"
   ]
  },
  {
   "cell_type": "code",
   "execution_count": 8,
   "id": "3eb3a044-09a1-41a8-8467-0694f54a1728",
   "metadata": {},
   "outputs": [
    {
     "name": "stderr",
     "output_type": "stream",
     "text": [
      "IOPub data rate exceeded.\n",
      "The Jupyter server will temporarily stop sending output\n",
      "to the client in order to avoid crashing it.\n",
      "To change this limit, set the config variable\n",
      "`--ServerApp.iopub_data_rate_limit`.\n",
      "\n",
      "Current values:\n",
      "ServerApp.iopub_data_rate_limit=1000000.0 (bytes/sec)\n",
      "ServerApp.rate_limit_window=3.0 (secs)\n",
      "\n"
     ]
    }
   ],
   "source": [
    "#to display all the records\n",
    "print(df.to_string())"
   ]
  },
  {
   "cell_type": "code",
   "execution_count": 9,
   "id": "3172efee-cbc1-4573-b6d5-803a1d406508",
   "metadata": {},
   "outputs": [
    {
     "name": "stdout",
     "output_type": "stream",
     "text": [
      "  Index        Date        Open        High         Low       Close  \\\n",
      "0   NYA  12/31/1965  528.690002  528.690002  528.690002  528.690002   \n",
      "1   NYA    1/3/1966  527.210022  527.210022  527.210022  527.210022   \n",
      "2   NYA    1/4/1966  527.840027  527.840027  527.840027  527.840027   \n",
      "3   NYA    1/5/1966  531.119995  531.119995  531.119995  531.119995   \n",
      "4   NYA    1/6/1966  532.070007  532.070007  532.070007  532.070007   \n",
      "\n",
      "    Adj Close  Volume  \n",
      "0  528.690002     0.0  \n",
      "1  527.210022     0.0  \n",
      "2  527.840027     0.0  \n",
      "3  531.119995     0.0  \n",
      "4  532.070007     0.0  \n"
     ]
    }
   ],
   "source": [
    "#to display first 5 records\n",
    "print(df.head(5))"
   ]
  },
  {
   "cell_type": "code",
   "execution_count": 10,
   "id": "77ed4acc-9575-487c-871c-df85bbc3b757",
   "metadata": {},
   "outputs": [
    {
     "name": "stdout",
     "output_type": "stream",
     "text": [
      "       Index       Date         Open         High          Low        Close  \\\n",
      "112447  N100  5/20/2021  1221.780029  1232.319946  1216.300049  1232.280029   \n",
      "112448  N100  5/21/2021  1234.920044  1242.760010  1232.290039  1238.920044   \n",
      "112449  N100  5/24/2021  1240.650024  1244.010010  1238.459961  1243.900024   \n",
      "112450  N100  5/25/2021  1247.650024  1249.339966  1243.670044  1243.739990   \n",
      "112451  N100  5/26/2021  1247.119995  1248.640015  1241.199951  1243.420044   \n",
      "112452  N100  5/27/2021  1241.119995  1251.910034  1241.119995  1247.069946   \n",
      "112453  N100  5/28/2021  1249.469971  1259.209961  1249.030029  1256.599976   \n",
      "112454  N100  5/31/2021  1256.079956  1258.880005  1248.140015  1248.930054   \n",
      "112455  N100   6/1/2021  1254.609985  1265.660034  1254.609985  1258.579956   \n",
      "112456  N100   6/2/2021  1258.489990  1263.709961  1258.239990  1263.619995   \n",
      "\n",
      "          Adj Close       Volume  \n",
      "112447  1232.280029  157211900.0  \n",
      "112448  1238.920044  182668200.0  \n",
      "112449  1243.900024   85213100.0  \n",
      "112450  1243.739990  150195900.0  \n",
      "112451  1243.420044  161202400.0  \n",
      "112452  1247.069946  379696400.0  \n",
      "112453  1256.599976  160773400.0  \n",
      "112454  1248.930054   91173700.0  \n",
      "112455  1258.579956  155179900.0  \n",
      "112456  1263.619995  148465000.0  \n"
     ]
    }
   ],
   "source": [
    "#to display last 10 records\n",
    "print(df.tail(10))"
   ]
  },
  {
   "cell_type": "code",
   "execution_count": 11,
   "id": "9b0cae55-4b68-4d77-aa67-9fd82e062c91",
   "metadata": {},
   "outputs": [
    {
     "name": "stdout",
     "output_type": "stream",
     "text": [
      "(112457, 8)\n"
     ]
    }
   ],
   "source": [
    "#to display number of columns and number of rows\n",
    "print(df.shape)"
   ]
  },
  {
   "cell_type": "code",
   "execution_count": 13,
   "id": "17b7b2b7-615a-45dc-9bd0-455ed4c001e0",
   "metadata": {},
   "outputs": [
    {
     "name": "stdout",
     "output_type": "stream",
     "text": [
      "        Index   Date   Open   High    Low  Close  Adj Close  Volume\n",
      "0       False  False  False  False  False  False      False   False\n",
      "1       False  False  False  False  False  False      False   False\n",
      "2       False  False  False  False  False  False      False   False\n",
      "3       False  False  False  False  False  False      False   False\n",
      "4       False  False  False  False  False  False      False   False\n",
      "...       ...    ...    ...    ...    ...    ...        ...     ...\n",
      "112452  False  False  False  False  False  False      False   False\n",
      "112453  False  False  False  False  False  False      False   False\n",
      "112454  False  False  False  False  False  False      False   False\n",
      "112455  False  False  False  False  False  False      False   False\n",
      "112456  False  False  False  False  False  False      False   False\n",
      "\n",
      "[112457 rows x 8 columns]\n"
     ]
    }
   ],
   "source": [
    "#to display how many NaN values in given data that means missing values\n",
    "print(df.isnull())"
   ]
  },
  {
   "cell_type": "code",
   "execution_count": 14,
   "id": "b9af3623-08fc-4726-9a17-36fa17267ddc",
   "metadata": {},
   "outputs": [
    {
     "name": "stdout",
     "output_type": "stream",
     "text": [
      "Index           0\n",
      "Date            0\n",
      "Open         2204\n",
      "High         2205\n",
      "Low          2206\n",
      "Close        2207\n",
      "Adj Close    2213\n",
      "Volume       2204\n",
      "dtype: int64\n"
     ]
    }
   ],
   "source": [
    "#to display total count of that NaN values\n",
    "print(df.isnull().sum())"
   ]
  },
  {
   "cell_type": "code",
   "execution_count": 15,
   "id": "41d0f5f5-f3d2-4afb-bdcb-e68365a6e095",
   "metadata": {},
   "outputs": [
    {
     "name": "stdout",
     "output_type": "stream",
     "text": [
      "       Index        Date         Open         High          Low        Close  \\\n",
      "0        NYA  12/31/1965   528.690002   528.690002   528.690002   528.690002   \n",
      "1        NYA    1/3/1966   527.210022   527.210022   527.210022   527.210022   \n",
      "2        NYA    1/4/1966   527.840027   527.840027   527.840027   527.840027   \n",
      "3        NYA    1/5/1966   531.119995   531.119995   531.119995   531.119995   \n",
      "4        NYA    1/6/1966   532.070007   532.070007   532.070007   532.070007   \n",
      "...      ...         ...          ...          ...          ...          ...   \n",
      "112452  N100   5/27/2021  1241.119995  1251.910034  1241.119995  1247.069946   \n",
      "112453  N100   5/28/2021  1249.469971  1259.209961  1249.030029  1256.599976   \n",
      "112454  N100   5/31/2021  1256.079956  1258.880005  1248.140015  1248.930054   \n",
      "112455  N100    6/1/2021  1254.609985  1265.660034  1254.609985  1258.579956   \n",
      "112456  N100    6/2/2021   1258.48999  1263.709961   1258.23999  1263.619995   \n",
      "\n",
      "          Adj Close       Volume  \n",
      "0        528.690002          0.0  \n",
      "1        527.210022          0.0  \n",
      "2        527.840027          0.0  \n",
      "3        531.119995          0.0  \n",
      "4        532.070007          0.0  \n",
      "...             ...          ...  \n",
      "112452  1247.069946  379696400.0  \n",
      "112453  1256.599976  160773400.0  \n",
      "112454  1248.930054   91173700.0  \n",
      "112455  1258.579956  155179900.0  \n",
      "112456  1263.619995  148465000.0  \n",
      "\n",
      "[112457 rows x 8 columns]\n"
     ]
    }
   ],
   "source": [
    "#to fill the NaN values\n",
    "print(df.fillna(\"Happy\"))"
   ]
  },
  {
   "cell_type": "code",
   "execution_count": null,
   "id": "2e167e66-f907-4861-801a-11f6241dddf7",
   "metadata": {},
   "outputs": [],
   "source": []
  },
  {
   "cell_type": "code",
   "execution_count": null,
   "id": "bc40e5ca-0fd7-4464-b165-7bca0561bc6f",
   "metadata": {},
   "outputs": [],
   "source": []
  }
 ],
 "metadata": {
  "kernelspec": {
   "display_name": "Python 3 (ipykernel)",
   "language": "python",
   "name": "python3"
  },
  "language_info": {
   "codemirror_mode": {
    "name": "ipython",
    "version": 3
   },
   "file_extension": ".py",
   "mimetype": "text/x-python",
   "name": "python",
   "nbconvert_exporter": "python",
   "pygments_lexer": "ipython3",
   "version": "3.10.9"
  }
 },
 "nbformat": 4,
 "nbformat_minor": 5
}
